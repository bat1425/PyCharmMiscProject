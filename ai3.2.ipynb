{
 "cells": [
  {
   "cell_type": "code",
   "id": "initial_id",
   "metadata": {
    "collapsed": true
   },
   "source": [
    "import pandas as pd\n",
    "import plotly.express as px\n",
    "from plotly.offline import init_notebook_mode\n",
    "init_notebook_mode()"
   ],
   "outputs": [],
   "execution_count": null
  },
  {
   "metadata": {},
   "cell_type": "code",
   "source": [
    "heart=pd.read_csv('heart.csv')\n",
    "covid=pd.read_csv('covid_19_data.csv')\n",
    "co2=pd.read_csv('co2_emission.csv')\n",
    "house=pd.read_csv('train.csv')"
   ],
   "id": "e2a59f69fad6993c",
   "outputs": [],
   "execution_count": null
  },
  {
   "metadata": {},
   "cell_type": "code",
   "source": "heart.head()",
   "id": "2e0484dc6aabf929",
   "outputs": [],
   "execution_count": null
  },
  {
   "metadata": {
    "jupyter": {
     "is_executing": true
    }
   },
   "cell_type": "code",
   "source": "fig=px.scatter(heart, x='trestbps', y='chol', color='target', title=\"Холестерин и давление\", template='ggplot2')",
   "id": "203d8f10c0b918e2",
   "outputs": [],
   "execution_count": null
  },
  {
   "metadata": {},
   "cell_type": "code",
   "source": "fig.show()",
   "id": "2645e4a3a339c0e7",
   "outputs": [],
   "execution_count": null
  },
  {
   "metadata": {},
   "cell_type": "code",
   "source": "fig=px.scatter(heart, x='trestbps', y='chol',  title=\"Chol and trestbps\", facet_col='sex', color='target', template='ggplot2')",
   "id": "c51c29e968d37ff1",
   "outputs": [],
   "execution_count": null
  },
  {
   "metadata": {},
   "cell_type": "code",
   "source": "fig.show()",
   "id": "501b3eda1ea961c4",
   "outputs": [],
   "execution_count": null
  },
  {
   "metadata": {},
   "cell_type": "code",
   "source": "fig = px.line(co2[co2['Entity']=='Tajikistan'], x='Year', y=r'Annual CO₂ emissions (tonnes )', title='CO2 emission in Tajikistan',)",
   "id": "f3d7688b72e9464d",
   "outputs": [],
   "execution_count": null
  },
  {
   "metadata": {},
   "cell_type": "code",
   "source": "fig.show()",
   "id": "6041bc2072377ed8",
   "outputs": [],
   "execution_count": null
  },
  {
   "metadata": {},
   "cell_type": "code",
   "source": [
    "covidCases=pd.DataFrame(covid.groupby('Country/Region')\n",
    " ['Confirmed'].sum()).reset_index()"
   ],
   "id": "a650a1acfcfdc98d",
   "outputs": [],
   "execution_count": null
  },
  {
   "metadata": {},
   "cell_type": "code",
   "source": "covidCases=covidCases.sort_values(by='Confirmed', ascending=False)",
   "id": "6b0538d42dec1fa4",
   "outputs": [],
   "execution_count": null
  },
  {
   "metadata": {},
   "cell_type": "code",
   "source": "fig=px.bar(covidCases.iloc[:50], x='Country/Region', y='Confirmed', title='Top 50 covid country')",
   "id": "bed35baba24c0d04",
   "outputs": [],
   "execution_count": null
  },
  {
   "metadata": {},
   "cell_type": "code",
   "source": "fig.show()",
   "id": "531b55c3b559c41e",
   "outputs": [],
   "execution_count": null
  },
  {
   "metadata": {},
   "cell_type": "code",
   "source": "fig=px.pie(heart, names='slope', color_discrete_sequence=px.colors.sequential.Inferno, title='Pie chart example')",
   "id": "312d52fdde2150e5",
   "outputs": [],
   "execution_count": null
  },
  {
   "metadata": {},
   "cell_type": "code",
   "source": "fig.show()",
   "id": "731127b503146086",
   "outputs": [],
   "execution_count": null
  }
 ],
 "metadata": {
  "kernelspec": {
   "display_name": "Python 3",
   "language": "python",
   "name": "python3"
  },
  "language_info": {
   "codemirror_mode": {
    "name": "ipython",
    "version": 2
   },
   "file_extension": ".py",
   "mimetype": "text/x-python",
   "name": "python",
   "nbconvert_exporter": "python",
   "pygments_lexer": "ipython2",
   "version": "2.7.6"
  }
 },
 "nbformat": 4,
 "nbformat_minor": 5
}
