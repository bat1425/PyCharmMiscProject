{
 "cells": [
  {
   "cell_type": "code",
   "id": "initial_id",
   "metadata": {
    "collapsed": true,
    "ExecuteTime": {
     "end_time": "2025-05-15T14:11:44.326996Z",
     "start_time": "2025-05-15T14:11:44.318068Z"
    }
   },
   "source": "print (\"Hello world!\")",
   "outputs": [
    {
     "name": "stdout",
     "output_type": "stream",
     "text": [
      "Hello world!\n"
     ]
    }
   ],
   "execution_count": 34
  },
  {
   "metadata": {
    "ExecuteTime": {
     "end_time": "2025-05-15T14:11:44.752348Z",
     "start_time": "2025-05-15T14:11:44.449824Z"
    }
   },
   "cell_type": "code",
   "source": [
    "import numpy as np\n",
    "a = np.array([1, 2.5, 3])\n",
    "print(a)\n",
    "print(a.dtype)\n",
    "b = np.array(['text', 1, 2.5])\n",
    "print(b)\n",
    "print(b.dtype)"
   ],
   "id": "a750cf1123604366",
   "outputs": [
    {
     "name": "stdout",
     "output_type": "stream",
     "text": [
      "[1.  2.5 3. ]\n",
      "float64\n",
      "['text' '1' '2.5']\n",
      "<U32\n"
     ]
    }
   ],
   "execution_count": 35
  },
  {
   "metadata": {
    "ExecuteTime": {
     "end_time": "2025-05-15T14:11:44.906147Z",
     "start_time": "2025-05-15T14:11:44.808023Z"
    }
   },
   "cell_type": "code",
   "source": [
    "a = np.zeros((4,3,2))\n",
    "print(a)\n",
    "print()\n",
    "a = np.zeros((4, 3, 2), dtype='int8')"
   ],
   "id": "e9a89400fd96a117",
   "outputs": [
    {
     "name": "stdout",
     "output_type": "stream",
     "text": [
      "[[[0. 0.]\n",
      "  [0. 0.]\n",
      "  [0. 0.]]\n",
      "\n",
      " [[0. 0.]\n",
      "  [0. 0.]\n",
      "  [0. 0.]]\n",
      "\n",
      " [[0. 0.]\n",
      "  [0. 0.]\n",
      "  [0. 0.]]\n",
      "\n",
      " [[0. 0.]\n",
      "  [0. 0.]\n",
      "  [0. 0.]]]\n",
      "\n"
     ]
    }
   ],
   "execution_count": 36
  },
  {
   "metadata": {
    "ExecuteTime": {
     "end_time": "2025-05-15T14:11:45.214445Z",
     "start_time": "2025-05-15T14:11:45.072519Z"
    }
   },
   "cell_type": "code",
   "source": [
    "a = np.ones((4, 3))\n",
    "print(a)"
   ],
   "id": "7312bfbb532d5374",
   "outputs": [
    {
     "name": "stdout",
     "output_type": "stream",
     "text": [
      "[[1. 1. 1.]\n",
      " [1. 1. 1.]\n",
      " [1. 1. 1.]\n",
      " [1. 1. 1.]]\n"
     ]
    }
   ],
   "execution_count": 37
  },
  {
   "metadata": {
    "ExecuteTime": {
     "end_time": "2025-05-15T14:11:45.536870Z",
     "start_time": "2025-05-15T14:11:45.240886Z"
    }
   },
   "cell_type": "code",
   "source": [
    "a = np.eye(5, 5, dtype='int8')\n",
    "print(a)"
   ],
   "id": "d551f8785b1cf690",
   "outputs": [
    {
     "name": "stdout",
     "output_type": "stream",
     "text": [
      "[[1 0 0 0 0]\n",
      " [0 1 0 0 0]\n",
      " [0 0 1 0 0]\n",
      " [0 0 0 1 0]\n",
      " [0 0 0 0 1]]\n"
     ]
    }
   ],
   "execution_count": 38
  },
  {
   "metadata": {
    "ExecuteTime": {
     "end_time": "2025-05-15T14:11:45.782737Z",
     "start_time": "2025-05-15T14:11:45.643303Z"
    }
   },
   "cell_type": "code",
   "source": [
    "a = np.arange(1, 10)\n",
    "print(a)\n",
    "print()\n",
    "a = np.arange(1, 5, 0.4)\n",
    "print(a)"
   ],
   "id": "f434604733cb937e",
   "outputs": [
    {
     "name": "stdout",
     "output_type": "stream",
     "text": [
      "[1 2 3 4 5 6 7 8 9]\n",
      "\n",
      "[1.  1.4 1.8 2.2 2.6 3.  3.4 3.8 4.2 4.6]\n"
     ]
    }
   ],
   "execution_count": 39
  },
  {
   "metadata": {
    "ExecuteTime": {
     "end_time": "2025-05-15T14:11:46.190119Z",
     "start_time": "2025-05-15T14:11:45.838812Z"
    }
   },
   "cell_type": "code",
   "source": [
    "a = np.linspace(1, 5, 10)\n",
    "print(a)"
   ],
   "id": "5635047acad3653c",
   "outputs": [
    {
     "name": "stdout",
     "output_type": "stream",
     "text": [
      "[1.         1.44444444 1.88888889 2.33333333 2.77777778 3.22222222\n",
      " 3.66666667 4.11111111 4.55555556 5.        ]\n"
     ]
    }
   ],
   "execution_count": 40
  },
  {
   "metadata": {
    "ExecuteTime": {
     "end_time": "2025-05-15T14:11:46.494727Z",
     "start_time": "2025-05-15T14:11:46.226165Z"
    }
   },
   "cell_type": "code",
   "source": [
    "a = np.zeros((4,3), dtype='int8')\n",
    "print(a)\n",
    "print()\n",
    "a = a.reshape((2,6))\n",
    "print(a)"
   ],
   "id": "3fd3675a1681fc30",
   "outputs": [
    {
     "name": "stdout",
     "output_type": "stream",
     "text": [
      "[[0 0 0]\n",
      " [0 0 0]\n",
      " [0 0 0]\n",
      " [0 0 0]]\n",
      "\n",
      "[[0 0 0 0 0 0]\n",
      " [0 0 0 0 0 0]]\n"
     ]
    }
   ],
   "execution_count": 41
  },
  {
   "metadata": {
    "ExecuteTime": {
     "end_time": "2025-05-15T14:11:46.771282Z",
     "start_time": "2025-05-15T14:11:46.630505Z"
    }
   },
   "cell_type": "code",
   "source": [
    "a = np.arange(1,13).reshape(4,3)\n",
    "print(a)\n",
    "print('Transpose')\n",
    "print(a.transpose())\n",
    "print('Turn left')\n",
    "print(np.rot90(a))\n",
    "print('Turn right')\n",
    "print(np.rot90(a, -1))"
   ],
   "id": "7f04b0741eab5628",
   "outputs": [
    {
     "name": "stdout",
     "output_type": "stream",
     "text": [
      "[[ 1  2  3]\n",
      " [ 4  5  6]\n",
      " [ 7  8  9]\n",
      " [10 11 12]]\n",
      "Transpose\n",
      "[[ 1  4  7 10]\n",
      " [ 2  5  8 11]\n",
      " [ 3  6  9 12]]\n",
      "Turn left\n",
      "[[ 3  6  9 12]\n",
      " [ 2  5  8 11]\n",
      " [ 1  4  7 10]]\n",
      "Turn right\n",
      "[[10  7  4  1]\n",
      " [11  8  5  2]\n",
      " [12  9  6  3]]\n"
     ]
    }
   ],
   "execution_count": 42
  },
  {
   "metadata": {
    "ExecuteTime": {
     "end_time": "2025-05-15T14:11:47.072685Z",
     "start_time": "2025-05-15T14:11:46.796968Z"
    }
   },
   "cell_type": "code",
   "source": [
    "a = np.array([[1,2,3], [4,5,6], [7,8,9]])\n",
    "print(a.max())\n",
    "print(a.min())\n",
    "print(a.sum())"
   ],
   "id": "49b80b5938987ec5",
   "outputs": [
    {
     "name": "stdout",
     "output_type": "stream",
     "text": [
      "9\n",
      "1\n",
      "45\n"
     ]
    }
   ],
   "execution_count": 43
  },
  {
   "metadata": {
    "ExecuteTime": {
     "end_time": "2025-05-15T14:11:47.367835Z",
     "start_time": "2025-05-15T14:11:47.118084Z"
    }
   },
   "cell_type": "code",
   "source": [
    "a = np.array([[1,2,3], [4,5,6], [7,8,9]])\n",
    "print(a.sum(axis=0))\n",
    "print(a.sum(axis=1))\n",
    "print(a.min(axis=0))\n",
    "print(a.min(axis=1))\n",
    "print(a.max(axis=0))\n",
    "print(a.max(axis=1))"
   ],
   "id": "a41ee974846385b8",
   "outputs": [
    {
     "name": "stdout",
     "output_type": "stream",
     "text": [
      "[12 15 18]\n",
      "[ 6 15 24]\n",
      "[1 2 3]\n",
      "[1 4 7]\n",
      "[7 8 9]\n",
      "[3 6 9]\n"
     ]
    }
   ],
   "execution_count": 44
  },
  {
   "metadata": {
    "ExecuteTime": {
     "end_time": "2025-05-15T14:11:47.641449Z",
     "start_time": "2025-05-15T14:11:47.538023Z"
    }
   },
   "cell_type": "code",
   "source": [
    "a = np.arange(1,13).reshape(3,4)\n",
    "print(a)\n",
    "print(a[:2,2:])\n",
    "print()\n",
    "print(a[:,::2])"
   ],
   "id": "34c1a4e4f8da3fd4",
   "outputs": [
    {
     "name": "stdout",
     "output_type": "stream",
     "text": [
      "[[ 1  2  3  4]\n",
      " [ 5  6  7  8]\n",
      " [ 9 10 11 12]]\n",
      "[[3 4]\n",
      " [7 8]]\n",
      "\n",
      "[[ 1  3]\n",
      " [ 5  7]\n",
      " [ 9 11]]\n"
     ]
    }
   ],
   "execution_count": 45
  },
  {
   "metadata": {
    "ExecuteTime": {
     "end_time": "2025-05-15T14:11:47.972162Z",
     "start_time": "2025-05-15T14:11:47.704315Z"
    }
   },
   "cell_type": "code",
   "source": [
    "print(a)\n",
    "for row in a:\n",
    "    print(row)"
   ],
   "id": "76e99d6214bf03dc",
   "outputs": [
    {
     "name": "stdout",
     "output_type": "stream",
     "text": [
      "[[ 1  2  3  4]\n",
      " [ 5  6  7  8]\n",
      " [ 9 10 11 12]]\n",
      "[1 2 3 4]\n",
      "[5 6 7 8]\n",
      "[ 9 10 11 12]\n"
     ]
    }
   ],
   "execution_count": 46
  },
  {
   "metadata": {
    "ExecuteTime": {
     "end_time": "2025-05-15T14:11:48.227518Z",
     "start_time": "2025-05-15T14:11:48.002801Z"
    }
   },
   "cell_type": "code",
   "source": "import pandas as pd",
   "id": "a86ba0eccf33e4b0",
   "outputs": [],
   "execution_count": 47
  },
  {
   "metadata": {
    "ExecuteTime": {
     "end_time": "2025-05-15T14:11:48.569789Z",
     "start_time": "2025-05-15T14:11:48.266123Z"
    }
   },
   "cell_type": "code",
   "source": [
    "s = pd.Series(np.arange(5), index=['a','b','c','d','e'])\n",
    "print(s)\n",
    "print()\n",
    "s = pd.Series(np.linspace(0,1,5))\n",
    "print(s)"
   ],
   "id": "426fb9edb0ac35a6",
   "outputs": [
    {
     "name": "stdout",
     "output_type": "stream",
     "text": [
      "a    0\n",
      "b    1\n",
      "c    2\n",
      "d    3\n",
      "e    4\n",
      "dtype: int64\n",
      "\n",
      "0    0.00\n",
      "1    0.25\n",
      "2    0.50\n",
      "3    0.75\n",
      "4    1.00\n",
      "dtype: float64\n"
     ]
    }
   ],
   "execution_count": 48
  },
  {
   "metadata": {
    "ExecuteTime": {
     "end_time": "2025-05-15T14:11:48.860221Z",
     "start_time": "2025-05-15T14:11:48.601165Z"
    }
   },
   "cell_type": "code",
   "source": [
    "d = {\"a\":10, \"b\":20, \"c\":30, \"d\":40, \"e\":50}\n",
    "print(pd.Series(d))\n",
    "print()\n",
    "print(pd.Series(d, index = ['a','b','c','d', 'f']))"
   ],
   "id": "d223cf0c993c0aa7",
   "outputs": [
    {
     "name": "stdout",
     "output_type": "stream",
     "text": [
      "a    10\n",
      "b    20\n",
      "c    30\n",
      "d    40\n",
      "e    50\n",
      "dtype: int64\n",
      "\n",
      "a    10.0\n",
      "b    20.0\n",
      "c    30.0\n",
      "d    40.0\n",
      "f     NaN\n",
      "dtype: float64\n"
     ]
    }
   ],
   "execution_count": 49
  },
  {
   "metadata": {
    "ExecuteTime": {
     "end_time": "2025-05-15T14:11:49.214069Z",
     "start_time": "2025-05-15T14:11:48.903638Z"
    }
   },
   "cell_type": "code",
   "source": [
    "s = pd.Series(np.arange(5), index=['a','b','c','d', 'e'])\n",
    "print(\"Choose one\")\n",
    "print(s[\"a\"])\n",
    "print(\"Choose new\")\n",
    "print(s[[\"a\",\"d\"]])\n",
    "print(\"Subset\")\n",
    "print(s[1:])\n",
    "print(\"Addition\")\n",
    "print(s+s)"
   ],
   "id": "b9d724bef61fc384",
   "outputs": [
    {
     "name": "stdout",
     "output_type": "stream",
     "text": [
      "Choose one\n",
      "0\n",
      "Choose new\n",
      "a    0\n",
      "d    3\n",
      "dtype: int64\n",
      "Subset\n",
      "b    1\n",
      "c    2\n",
      "d    3\n",
      "e    4\n",
      "dtype: int64\n",
      "Addition\n",
      "a    0\n",
      "b    2\n",
      "c    4\n",
      "d    6\n",
      "e    8\n",
      "dtype: int64\n"
     ]
    }
   ],
   "execution_count": 50
  },
  {
   "metadata": {
    "ExecuteTime": {
     "end_time": "2025-05-15T14:11:49.494580Z",
     "start_time": "2025-05-15T14:11:49.284465Z"
    }
   },
   "cell_type": "code",
   "source": "print(s[s>2])",
   "id": "81e5a910aa4295c",
   "outputs": [
    {
     "name": "stdout",
     "output_type": "stream",
     "text": [
      "d    3\n",
      "e    4\n",
      "dtype: int64\n"
     ]
    }
   ],
   "execution_count": 51
  },
  {
   "metadata": {
    "ExecuteTime": {
     "end_time": "2025-05-15T14:11:49.800649Z",
     "start_time": "2025-05-15T14:11:49.520608Z"
    }
   },
   "cell_type": "code",
   "source": [
    "s = pd.Series(np.arange(5), index=['a','b','c','d', 'e'])\n",
    "s.name = \"Dannie\"\n",
    "s.index.name = \"Index\"\n",
    "print(s)"
   ],
   "id": "865e04a01402efc8",
   "outputs": [
    {
     "name": "stdout",
     "output_type": "stream",
     "text": [
      "Index\n",
      "a    0\n",
      "b    1\n",
      "c    2\n",
      "d    3\n",
      "e    4\n",
      "Name: Dannie, dtype: int64\n"
     ]
    }
   ],
   "execution_count": 52
  },
  {
   "metadata": {
    "ExecuteTime": {
     "end_time": "2025-05-15T14:11:50.114404Z",
     "start_time": "2025-05-15T14:11:49.859185Z"
    }
   },
   "cell_type": "code",
   "source": [
    "students_dict = {\"Student\": [\"Student 1\", \"Student 2\", \"Student 3\"], \"math\": [5,4,3], \"physics\": [4,5,5]}\n",
    "students = pd.DataFrame(students_dict)\n",
    "print(students)\n",
    "print(students.index)\n",
    "print(students.columns)\n",
    "students.index = [\"A\", \"B\", \"C\"]\n",
    "print(students)"
   ],
   "id": "442d20d862e9a491",
   "outputs": [
    {
     "name": "stdout",
     "output_type": "stream",
     "text": [
      "     Student  math  physics\n",
      "0  Student 1     5        4\n",
      "1  Student 2     4        5\n",
      "2  Student 3     3        5\n",
      "RangeIndex(start=0, stop=3, step=1)\n",
      "Index(['Student', 'math', 'physics'], dtype='object')\n",
      "     Student  math  physics\n",
      "A  Student 1     5        4\n",
      "B  Student 2     4        5\n",
      "C  Student 3     3        5\n"
     ]
    }
   ],
   "execution_count": 53
  },
  {
   "metadata": {
    "ExecuteTime": {
     "end_time": "2025-05-15T14:11:50.517027Z",
     "start_time": "2025-05-15T14:11:50.143607Z"
    }
   },
   "cell_type": "code",
   "source": "print(students.loc[\"B\":])",
   "id": "565a0392d28d15a6",
   "outputs": [
    {
     "name": "stdout",
     "output_type": "stream",
     "text": [
      "     Student  math  physics\n",
      "B  Student 2     4        5\n",
      "C  Student 3     3        5\n"
     ]
    }
   ],
   "execution_count": 54
  },
  {
   "metadata": {
    "ExecuteTime": {
     "end_time": "2025-05-15T14:11:50.704230Z",
     "start_time": "2025-05-15T14:11:50.542038Z"
    }
   },
   "cell_type": "code",
   "source": "print(type(students[\"Student\"]))",
   "id": "9649662f1681ad12",
   "outputs": [
    {
     "name": "stdout",
     "output_type": "stream",
     "text": [
      "<class 'pandas.core.series.Series'>\n"
     ]
    }
   ],
   "execution_count": 55
  },
  {
   "metadata": {
    "ExecuteTime": {
     "end_time": "2025-05-15T14:11:50.966278Z",
     "start_time": "2025-05-15T14:11:50.768658Z"
    }
   },
   "cell_type": "code",
   "source": "students = pd.read_csv(\"students_performance.csv\")",
   "id": "efb31be4f7d41456",
   "outputs": [],
   "execution_count": 56
  },
  {
   "metadata": {
    "ExecuteTime": {
     "end_time": "2025-05-15T14:11:51.250977Z",
     "start_time": "2025-05-15T14:11:50.988887Z"
    }
   },
   "cell_type": "code",
   "source": [
    "students.head()\n",
    "print(students[10:13])"
   ],
   "id": "bbcf4971d55ad597",
   "outputs": [
    {
     "name": "stdout",
     "output_type": "stream",
     "text": [
      "    gender race/ethnicity parental level of education     lunch  \\\n",
      "10    male        group C          associate's degree  standard   \n",
      "11    male        group D          associate's degree  standard   \n",
      "12  female        group B                 high school  standard   \n",
      "\n",
      "   test preparation course  math score  reading score  writing score  \n",
      "10                    none          58             54             52  \n",
      "11                    none          40             52             43  \n",
      "12                    none          65             81             73  \n"
     ]
    }
   ],
   "execution_count": 57
  },
  {
   "metadata": {
    "ExecuteTime": {
     "end_time": "2025-05-15T14:11:51.528216Z",
     "start_time": "2025-05-15T14:11:51.278853Z"
    }
   },
   "cell_type": "code",
   "source": "print(students[students[\"test preparation course\"] == \"completed\"][\"math score\"].head())",
   "id": "88474c278fafb54f",
   "outputs": [
    {
     "name": "stdout",
     "output_type": "stream",
     "text": [
      "1     69\n",
      "6     88\n",
      "8     64\n",
      "13    78\n",
      "18    46\n",
      "Name: math score, dtype: int64\n"
     ]
    }
   ],
   "execution_count": 58
  },
  {
   "metadata": {
    "ExecuteTime": {
     "end_time": "2025-05-15T14:11:51.837986Z",
     "start_time": "2025-05-15T14:11:51.575913Z"
    }
   },
   "cell_type": "code",
   "source": "with_course = students[students[\"test preparation course\"] == \"complicated\"]",
   "id": "9016fc870f7a7d77",
   "outputs": [],
   "execution_count": 59
  },
  {
   "metadata": {
    "ExecuteTime": {
     "end_time": "2025-05-15T14:11:52.018248Z",
     "start_time": "2025-05-15T14:11:51.878150Z"
    }
   },
   "cell_type": "code",
   "source": "with_course[[\"math score\", \"reading score\", \"writing score\"]].sort_values([\"math score\", \"reading score\", \"writing score\"],ascending=False)",
   "id": "861b544445571ab5",
   "outputs": [
    {
     "data": {
      "text/plain": [
       "Empty DataFrame\n",
       "Columns: [math score, reading score, writing score]\n",
       "Index: []"
      ],
      "text/html": [
       "<div>\n",
       "<style scoped>\n",
       "    .dataframe tbody tr th:only-of-type {\n",
       "        vertical-align: middle;\n",
       "    }\n",
       "\n",
       "    .dataframe tbody tr th {\n",
       "        vertical-align: top;\n",
       "    }\n",
       "\n",
       "    .dataframe thead th {\n",
       "        text-align: right;\n",
       "    }\n",
       "</style>\n",
       "<table border=\"1\" class=\"dataframe\">\n",
       "  <thead>\n",
       "    <tr style=\"text-align: right;\">\n",
       "      <th></th>\n",
       "      <th>math score</th>\n",
       "      <th>reading score</th>\n",
       "      <th>writing score</th>\n",
       "    </tr>\n",
       "  </thead>\n",
       "  <tbody>\n",
       "  </tbody>\n",
       "</table>\n",
       "</div>"
      ]
     },
     "execution_count": 60,
     "metadata": {},
     "output_type": "execute_result"
    }
   ],
   "execution_count": 60
  },
  {
   "metadata": {
    "ExecuteTime": {
     "end_time": "2025-05-15T14:11:52.343484Z",
     "start_time": "2025-05-15T14:11:52.103129Z"
    }
   },
   "cell_type": "code",
   "source": "students[\"total score\"]=students[\"math score\"] + students[\"reading score\"] + students[\"writing score\"]",
   "id": "b04f02d2fda07597",
   "outputs": [],
   "execution_count": 61
  },
  {
   "metadata": {
    "ExecuteTime": {
     "end_time": "2025-05-15T14:11:52.872012Z",
     "start_time": "2025-05-15T14:11:52.489998Z"
    }
   },
   "cell_type": "code",
   "source": "students.sort_values(\"total score\", ascending=False).head(15)",
   "id": "5b66c6972ad9ad2f",
   "outputs": [
    {
     "data": {
      "text/plain": [
       "     gender race/ethnicity parental level of education         lunch  \\\n",
       "916    male        group E           bachelor's degree      standard   \n",
       "962  female        group E          associate's degree      standard   \n",
       "458  female        group E           bachelor's degree      standard   \n",
       "114  female        group E           bachelor's degree      standard   \n",
       "712  female        group D                some college      standard   \n",
       "179  female        group D            some high school      standard   \n",
       "165  female        group C           bachelor's degree      standard   \n",
       "625    male        group D                some college      standard   \n",
       "685  female        group E             master's degree      standard   \n",
       "903  female        group D           bachelor's degree  free/reduced   \n",
       "149    male        group E          associate's degree  free/reduced   \n",
       "957  female        group D             master's degree      standard   \n",
       "566  female        group E           bachelor's degree  free/reduced   \n",
       "594  female        group C           bachelor's degree      standard   \n",
       "717  female        group C          associate's degree      standard   \n",
       "\n",
       "    test preparation course  math score  reading score  writing score  \\\n",
       "916               completed         100            100            100   \n",
       "962                    none         100            100            100   \n",
       "458                    none         100            100            100   \n",
       "114               completed          99            100            100   \n",
       "712                    none          98            100             99   \n",
       "179               completed          97            100            100   \n",
       "165               completed          96            100            100   \n",
       "625               completed         100             97             99   \n",
       "685               completed          94             99            100   \n",
       "903               completed          93            100            100   \n",
       "149               completed         100            100             93   \n",
       "957                    none          92            100            100   \n",
       "566               completed          92            100            100   \n",
       "594               completed          92            100             99   \n",
       "717               completed          96             96             99   \n",
       "\n",
       "     total score  \n",
       "916          300  \n",
       "962          300  \n",
       "458          300  \n",
       "114          299  \n",
       "712          297  \n",
       "179          297  \n",
       "165          296  \n",
       "625          296  \n",
       "685          293  \n",
       "903          293  \n",
       "149          293  \n",
       "957          292  \n",
       "566          292  \n",
       "594          291  \n",
       "717          291  "
      ],
      "text/html": [
       "<div>\n",
       "<style scoped>\n",
       "    .dataframe tbody tr th:only-of-type {\n",
       "        vertical-align: middle;\n",
       "    }\n",
       "\n",
       "    .dataframe tbody tr th {\n",
       "        vertical-align: top;\n",
       "    }\n",
       "\n",
       "    .dataframe thead th {\n",
       "        text-align: right;\n",
       "    }\n",
       "</style>\n",
       "<table border=\"1\" class=\"dataframe\">\n",
       "  <thead>\n",
       "    <tr style=\"text-align: right;\">\n",
       "      <th></th>\n",
       "      <th>gender</th>\n",
       "      <th>race/ethnicity</th>\n",
       "      <th>parental level of education</th>\n",
       "      <th>lunch</th>\n",
       "      <th>test preparation course</th>\n",
       "      <th>math score</th>\n",
       "      <th>reading score</th>\n",
       "      <th>writing score</th>\n",
       "      <th>total score</th>\n",
       "    </tr>\n",
       "  </thead>\n",
       "  <tbody>\n",
       "    <tr>\n",
       "      <th>916</th>\n",
       "      <td>male</td>\n",
       "      <td>group E</td>\n",
       "      <td>bachelor's degree</td>\n",
       "      <td>standard</td>\n",
       "      <td>completed</td>\n",
       "      <td>100</td>\n",
       "      <td>100</td>\n",
       "      <td>100</td>\n",
       "      <td>300</td>\n",
       "    </tr>\n",
       "    <tr>\n",
       "      <th>962</th>\n",
       "      <td>female</td>\n",
       "      <td>group E</td>\n",
       "      <td>associate's degree</td>\n",
       "      <td>standard</td>\n",
       "      <td>none</td>\n",
       "      <td>100</td>\n",
       "      <td>100</td>\n",
       "      <td>100</td>\n",
       "      <td>300</td>\n",
       "    </tr>\n",
       "    <tr>\n",
       "      <th>458</th>\n",
       "      <td>female</td>\n",
       "      <td>group E</td>\n",
       "      <td>bachelor's degree</td>\n",
       "      <td>standard</td>\n",
       "      <td>none</td>\n",
       "      <td>100</td>\n",
       "      <td>100</td>\n",
       "      <td>100</td>\n",
       "      <td>300</td>\n",
       "    </tr>\n",
       "    <tr>\n",
       "      <th>114</th>\n",
       "      <td>female</td>\n",
       "      <td>group E</td>\n",
       "      <td>bachelor's degree</td>\n",
       "      <td>standard</td>\n",
       "      <td>completed</td>\n",
       "      <td>99</td>\n",
       "      <td>100</td>\n",
       "      <td>100</td>\n",
       "      <td>299</td>\n",
       "    </tr>\n",
       "    <tr>\n",
       "      <th>712</th>\n",
       "      <td>female</td>\n",
       "      <td>group D</td>\n",
       "      <td>some college</td>\n",
       "      <td>standard</td>\n",
       "      <td>none</td>\n",
       "      <td>98</td>\n",
       "      <td>100</td>\n",
       "      <td>99</td>\n",
       "      <td>297</td>\n",
       "    </tr>\n",
       "    <tr>\n",
       "      <th>179</th>\n",
       "      <td>female</td>\n",
       "      <td>group D</td>\n",
       "      <td>some high school</td>\n",
       "      <td>standard</td>\n",
       "      <td>completed</td>\n",
       "      <td>97</td>\n",
       "      <td>100</td>\n",
       "      <td>100</td>\n",
       "      <td>297</td>\n",
       "    </tr>\n",
       "    <tr>\n",
       "      <th>165</th>\n",
       "      <td>female</td>\n",
       "      <td>group C</td>\n",
       "      <td>bachelor's degree</td>\n",
       "      <td>standard</td>\n",
       "      <td>completed</td>\n",
       "      <td>96</td>\n",
       "      <td>100</td>\n",
       "      <td>100</td>\n",
       "      <td>296</td>\n",
       "    </tr>\n",
       "    <tr>\n",
       "      <th>625</th>\n",
       "      <td>male</td>\n",
       "      <td>group D</td>\n",
       "      <td>some college</td>\n",
       "      <td>standard</td>\n",
       "      <td>completed</td>\n",
       "      <td>100</td>\n",
       "      <td>97</td>\n",
       "      <td>99</td>\n",
       "      <td>296</td>\n",
       "    </tr>\n",
       "    <tr>\n",
       "      <th>685</th>\n",
       "      <td>female</td>\n",
       "      <td>group E</td>\n",
       "      <td>master's degree</td>\n",
       "      <td>standard</td>\n",
       "      <td>completed</td>\n",
       "      <td>94</td>\n",
       "      <td>99</td>\n",
       "      <td>100</td>\n",
       "      <td>293</td>\n",
       "    </tr>\n",
       "    <tr>\n",
       "      <th>903</th>\n",
       "      <td>female</td>\n",
       "      <td>group D</td>\n",
       "      <td>bachelor's degree</td>\n",
       "      <td>free/reduced</td>\n",
       "      <td>completed</td>\n",
       "      <td>93</td>\n",
       "      <td>100</td>\n",
       "      <td>100</td>\n",
       "      <td>293</td>\n",
       "    </tr>\n",
       "    <tr>\n",
       "      <th>149</th>\n",
       "      <td>male</td>\n",
       "      <td>group E</td>\n",
       "      <td>associate's degree</td>\n",
       "      <td>free/reduced</td>\n",
       "      <td>completed</td>\n",
       "      <td>100</td>\n",
       "      <td>100</td>\n",
       "      <td>93</td>\n",
       "      <td>293</td>\n",
       "    </tr>\n",
       "    <tr>\n",
       "      <th>957</th>\n",
       "      <td>female</td>\n",
       "      <td>group D</td>\n",
       "      <td>master's degree</td>\n",
       "      <td>standard</td>\n",
       "      <td>none</td>\n",
       "      <td>92</td>\n",
       "      <td>100</td>\n",
       "      <td>100</td>\n",
       "      <td>292</td>\n",
       "    </tr>\n",
       "    <tr>\n",
       "      <th>566</th>\n",
       "      <td>female</td>\n",
       "      <td>group E</td>\n",
       "      <td>bachelor's degree</td>\n",
       "      <td>free/reduced</td>\n",
       "      <td>completed</td>\n",
       "      <td>92</td>\n",
       "      <td>100</td>\n",
       "      <td>100</td>\n",
       "      <td>292</td>\n",
       "    </tr>\n",
       "    <tr>\n",
       "      <th>594</th>\n",
       "      <td>female</td>\n",
       "      <td>group C</td>\n",
       "      <td>bachelor's degree</td>\n",
       "      <td>standard</td>\n",
       "      <td>completed</td>\n",
       "      <td>92</td>\n",
       "      <td>100</td>\n",
       "      <td>99</td>\n",
       "      <td>291</td>\n",
       "    </tr>\n",
       "    <tr>\n",
       "      <th>717</th>\n",
       "      <td>female</td>\n",
       "      <td>group C</td>\n",
       "      <td>associate's degree</td>\n",
       "      <td>standard</td>\n",
       "      <td>completed</td>\n",
       "      <td>96</td>\n",
       "      <td>96</td>\n",
       "      <td>99</td>\n",
       "      <td>291</td>\n",
       "    </tr>\n",
       "  </tbody>\n",
       "</table>\n",
       "</div>"
      ]
     },
     "execution_count": 62,
     "metadata": {},
     "output_type": "execute_result"
    }
   ],
   "execution_count": 62
  },
  {
   "metadata": {
    "ExecuteTime": {
     "end_time": "2025-05-15T14:11:53.252499Z",
     "start_time": "2025-05-15T14:11:52.962682Z"
    }
   },
   "cell_type": "code",
   "source": "students.groupby([\"gender\", \"test preparation course\"])[\"writing score\"].count()",
   "id": "93bce6010b098383",
   "outputs": [
    {
     "data": {
      "text/plain": [
       "gender  test preparation course\n",
       "female  completed                  184\n",
       "        none                       334\n",
       "male    completed                  174\n",
       "        none                       308\n",
       "Name: writing score, dtype: int64"
      ]
     },
     "execution_count": 63,
     "metadata": {},
     "output_type": "execute_result"
    }
   ],
   "execution_count": 63
  },
  {
   "metadata": {
    "ExecuteTime": {
     "end_time": "2025-05-15T14:11:53.698570Z",
     "start_time": "2025-05-15T14:11:53.661854Z"
    }
   },
   "cell_type": "code",
   "source": [
    "agg_functions = {\"math score\":[\"mean\", \"median\"]}\n",
    "students.groupby([\"gender\", \"test preparation course\"]).agg(agg_functions)"
   ],
   "id": "adadc243f0a497c3",
   "outputs": [
    {
     "data": {
      "text/plain": [
       "                               math score       \n",
       "                                     mean median\n",
       "gender test preparation course                  \n",
       "female completed                67.195652   67.0\n",
       "       none                     61.670659   62.0\n",
       "male   completed                72.339080   73.0\n",
       "       none                     66.688312   67.0"
      ],
      "text/html": [
       "<div>\n",
       "<style scoped>\n",
       "    .dataframe tbody tr th:only-of-type {\n",
       "        vertical-align: middle;\n",
       "    }\n",
       "\n",
       "    .dataframe tbody tr th {\n",
       "        vertical-align: top;\n",
       "    }\n",
       "\n",
       "    .dataframe thead tr th {\n",
       "        text-align: left;\n",
       "    }\n",
       "\n",
       "    .dataframe thead tr:last-of-type th {\n",
       "        text-align: right;\n",
       "    }\n",
       "</style>\n",
       "<table border=\"1\" class=\"dataframe\">\n",
       "  <thead>\n",
       "    <tr>\n",
       "      <th></th>\n",
       "      <th></th>\n",
       "      <th colspan=\"2\" halign=\"left\">math score</th>\n",
       "    </tr>\n",
       "    <tr>\n",
       "      <th></th>\n",
       "      <th></th>\n",
       "      <th>mean</th>\n",
       "      <th>median</th>\n",
       "    </tr>\n",
       "    <tr>\n",
       "      <th>gender</th>\n",
       "      <th>test preparation course</th>\n",
       "      <th></th>\n",
       "      <th></th>\n",
       "    </tr>\n",
       "  </thead>\n",
       "  <tbody>\n",
       "    <tr>\n",
       "      <th rowspan=\"2\" valign=\"top\">female</th>\n",
       "      <th>completed</th>\n",
       "      <td>67.195652</td>\n",
       "      <td>67.0</td>\n",
       "    </tr>\n",
       "    <tr>\n",
       "      <th>none</th>\n",
       "      <td>61.670659</td>\n",
       "      <td>62.0</td>\n",
       "    </tr>\n",
       "    <tr>\n",
       "      <th rowspan=\"2\" valign=\"top\">male</th>\n",
       "      <th>completed</th>\n",
       "      <td>72.339080</td>\n",
       "      <td>73.0</td>\n",
       "    </tr>\n",
       "    <tr>\n",
       "      <th>none</th>\n",
       "      <td>66.688312</td>\n",
       "      <td>67.0</td>\n",
       "    </tr>\n",
       "  </tbody>\n",
       "</table>\n",
       "</div>"
      ]
     },
     "execution_count": 64,
     "metadata": {},
     "output_type": "execute_result"
    }
   ],
   "execution_count": 64
  },
  {
   "metadata": {
    "ExecuteTime": {
     "end_time": "2025-05-15T14:11:54.167837Z",
     "start_time": "2025-05-15T14:11:54.039964Z"
    }
   },
   "cell_type": "code",
   "source": "import matplotlib.pyplot as plt",
   "id": "c9dad0dffb1e56c0",
   "outputs": [],
   "execution_count": 65
  },
  {
   "metadata": {
    "ExecuteTime": {
     "end_time": "2025-05-15T14:11:54.830427Z",
     "start_time": "2025-05-15T14:11:54.486220Z"
    }
   },
   "cell_type": "code",
   "source": [
    "plt.hist(students[\"math score\"], label=\"Test po mathematics\")\n",
    "plt.xlabel(\"Scores for test\")\n",
    "plt.legend()\n",
    "plt.show()"
   ],
   "id": "6923143ce4933585",
   "outputs": [
    {
     "data": {
      "text/plain": [
       "<Figure size 640x480 with 1 Axes>"
      ],
      "image/png": "[encoded data removed]"
     },
     "metadata": {},
     "output_type": "display_data"
    }
   ],
   "execution_count": 66
  }
 ],
 "metadata": {
  "kernelspec": {
   "display_name": "Python 3",
   "language": "python",
   "name": "python3"
  },
  "language_info": {
   "codemirror_mode": {
    "name": "ipython",
    "version": 2
   },
   "file_extension": ".py",
   "mimetype": "text/x-python",
   "name": "python",
   "nbconvert_exporter": "python",
   "pygments_lexer": "ipython2",
   "version": "2.7.6"
  }
 },
 "nbformat": 4,
 "nbformat_minor": 5
}
