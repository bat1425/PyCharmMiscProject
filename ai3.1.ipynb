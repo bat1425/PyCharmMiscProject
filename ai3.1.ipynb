{
 "cells": [
  {
   "metadata": {
    "ExecuteTime": {
     "end_time": "2025-05-15T14:56:43.884605Z",
     "start_time": "2025-05-15T14:56:43.880456Z"
    }
   },
   "cell_type": "code",
   "source": [
    "from scipy.stats import chisquare\n",
    "import pandas as pd\n",
    "import numpy as np"
   ],
   "id": "dc1daeb50b2d69a7",
   "outputs": [],
   "execution_count": 4
  },
  {
   "metadata": {
    "ExecuteTime": {
     "end_time": "2025-05-15T14:56:44.165163Z",
     "start_time": "2025-05-15T14:56:43.925297Z"
    }
   },
   "cell_type": "code",
   "source": [
    "df = pd.read_csv('Titanic-Dataset.csv')\n",
    "df.head()"
   ],
   "id": "cf71ab6b5171ac15",
   "outputs": [
    {
     "data": {
      "text/plain": [
       "   PassengerId  Survived  Pclass  \\\n",
       "0            1         0       3   \n",
       "1            2         1       1   \n",
       "2            3         1       3   \n",
       "3            4         1       1   \n",
       "4            5         0       3   \n",
       "\n",
       "                                                Name     Sex   Age  SibSp  \\\n",
       "0                            Braund, Mr. Owen Harris    male  22.0      1   \n",
       "1  Cumings, Mrs. John Bradley (Florence Briggs Th...  female  38.0      1   \n",
       "2                             Heikkinen, Miss. Laina  female  26.0      0   \n",
       "3       Futrelle, Mrs. Jacques Heath (Lily May Peel)  female  35.0      1   \n",
       "4                           Allen, Mr. William Henry    male  35.0      0   \n",
       "\n",
       "   Parch            Ticket     Fare Cabin Embarked  \n",
       "0      0         A/5 21171   7.2500   NaN        S  \n",
       "1      0          PC 17599  71.2833   C85        C  \n",
       "2      0  STON/O2. 3101282   7.9250   NaN        S  \n",
       "3      0            113803  53.1000  C123        S  \n",
       "4      0            373450   8.0500   NaN        S  "
      ],
      "text/html": [
       "<div>\n",
       "<style scoped>\n",
       "    .dataframe tbody tr th:only-of-type {\n",
       "        vertical-align: middle;\n",
       "    }\n",
       "\n",
       "    .dataframe tbody tr th {\n",
       "        vertical-align: top;\n",
       "    }\n",
       "\n",
       "    .dataframe thead th {\n",
       "        text-align: right;\n",
       "    }\n",
       "</style>\n",
       "<table border=\"1\" class=\"dataframe\">\n",
       "  <thead>\n",
       "    <tr style=\"text-align: right;\">\n",
       "      <th></th>\n",
       "      <th>PassengerId</th>\n",
       "      <th>Survived</th>\n",
       "      <th>Pclass</th>\n",
       "      <th>Name</th>\n",
       "      <th>Sex</th>\n",
       "      <th>Age</th>\n",
       "      <th>SibSp</th>\n",
       "      <th>Parch</th>\n",
       "      <th>Ticket</th>\n",
       "      <th>Fare</th>\n",
       "      <th>Cabin</th>\n",
       "      <th>Embarked</th>\n",
       "    </tr>\n",
       "  </thead>\n",
       "  <tbody>\n",
       "    <tr>\n",
       "      <th>0</th>\n",
       "      <td>1</td>\n",
       "      <td>0</td>\n",
       "      <td>3</td>\n",
       "      <td>Braund, Mr. Owen Harris</td>\n",
       "      <td>male</td>\n",
       "      <td>22.0</td>\n",
       "      <td>1</td>\n",
       "      <td>0</td>\n",
       "      <td>A/5 21171</td>\n",
       "      <td>7.2500</td>\n",
       "      <td>NaN</td>\n",
       "      <td>S</td>\n",
       "    </tr>\n",
       "    <tr>\n",
       "      <th>1</th>\n",
       "      <td>2</td>\n",
       "      <td>1</td>\n",
       "      <td>1</td>\n",
       "      <td>Cumings, Mrs. John Bradley (Florence Briggs Th...</td>\n",
       "      <td>female</td>\n",
       "      <td>38.0</td>\n",
       "      <td>1</td>\n",
       "      <td>0</td>\n",
       "      <td>PC 17599</td>\n",
       "      <td>71.2833</td>\n",
       "      <td>C85</td>\n",
       "      <td>C</td>\n",
       "    </tr>\n",
       "    <tr>\n",
       "      <th>2</th>\n",
       "      <td>3</td>\n",
       "      <td>1</td>\n",
       "      <td>3</td>\n",
       "      <td>Heikkinen, Miss. Laina</td>\n",
       "      <td>female</td>\n",
       "      <td>26.0</td>\n",
       "      <td>0</td>\n",
       "      <td>0</td>\n",
       "      <td>STON/O2. 3101282</td>\n",
       "      <td>7.9250</td>\n",
       "      <td>NaN</td>\n",
       "      <td>S</td>\n",
       "    </tr>\n",
       "    <tr>\n",
       "      <th>3</th>\n",
       "      <td>4</td>\n",
       "      <td>1</td>\n",
       "      <td>1</td>\n",
       "      <td>Futrelle, Mrs. Jacques Heath (Lily May Peel)</td>\n",
       "      <td>female</td>\n",
       "      <td>35.0</td>\n",
       "      <td>1</td>\n",
       "      <td>0</td>\n",
       "      <td>113803</td>\n",
       "      <td>53.1000</td>\n",
       "      <td>C123</td>\n",
       "      <td>S</td>\n",
       "    </tr>\n",
       "    <tr>\n",
       "      <th>4</th>\n",
       "      <td>5</td>\n",
       "      <td>0</td>\n",
       "      <td>3</td>\n",
       "      <td>Allen, Mr. William Henry</td>\n",
       "      <td>male</td>\n",
       "      <td>35.0</td>\n",
       "      <td>0</td>\n",
       "      <td>0</td>\n",
       "      <td>373450</td>\n",
       "      <td>8.0500</td>\n",
       "      <td>NaN</td>\n",
       "      <td>S</td>\n",
       "    </tr>\n",
       "  </tbody>\n",
       "</table>\n",
       "</div>"
      ]
     },
     "execution_count": 5,
     "metadata": {},
     "output_type": "execute_result"
    }
   ],
   "execution_count": 5
  },
  {
   "metadata": {
    "ExecuteTime": {
     "end_time": "2025-05-15T14:56:44.507914Z",
     "start_time": "2025-05-15T14:56:44.268242Z"
    }
   },
   "cell_type": "code",
   "source": [
    "p_class = {\n",
    "    1: [\n",
    "        len(df[(df['Pclass'] == 1) & (df['Survived'] == 1)]),\n",
    "        len(df[(df['Pclass'] == 1) & (df['Survived'] == 0)])\n",
    "    ],\n",
    "    2: [\n",
    "        len(df[(df['Pclass'] == 2) & (df['Survived'] == 1)]),\n",
    "        len(df[(df['Pclass'] == 2) & (df['Survived'] == 0)])\n",
    "    ],\n",
    "    3: [\n",
    "        len(df[(df['Pclass'] == 3) & (df['Survived'] == 1)]),\n",
    "        len(df[(df['Pclass'] == 3) & (df['Survived'] == 0)])\n",
    "    ]\n",
    "}\n",
    "print(p_class)"
   ],
   "id": "f9c1b29b5ab8c617",
   "outputs": [
    {
     "name": "stdout",
     "output_type": "stream",
     "text": [
      "{1: [136, 80], 2: [87, 97], 3: [119, 372]}\n"
     ]
    }
   ],
   "execution_count": 6
  },
  {
   "metadata": {
    "ExecuteTime": {
     "end_time": "2025-05-15T14:56:44.804492Z",
     "start_time": "2025-05-15T14:56:44.632456Z"
    }
   },
   "cell_type": "code",
   "source": [
    "exp = {}\n",
    "sum_s = p_class[1][0] + p_class[2][0] + p_class[3][0]\n",
    "sum_d = p_class[1][1] + p_class[2][1] + p_class[3][1]\n",
    "ll = [sum_s, sum_d]\n",
    "n = sum_s + sum_d\n",
    "\n",
    "print(sum_s)\n",
    "print(sum_d)\n",
    "print(n)\n",
    "\n",
    "for key, v in p_class.items():\n",
    "    lllll = []\n",
    "    for i in range(0, 2):\n",
    "        lllll.append(np.float64(sum(v) * ll[i] / n))\n",
    "    exp[key] = lllll\n",
    "print(exp)"
   ],
   "id": "e7013202694737f6",
   "outputs": [
    {
     "name": "stdout",
     "output_type": "stream",
     "text": [
      "342\n",
      "549\n",
      "891\n",
      "{1: [np.float64(82.9090909090909), np.float64(133.0909090909091)], 2: [np.float64(70.62626262626263), np.float64(113.37373737373737)], 3: [np.float64(188.46464646464648), np.float64(302.5353535353535)]}\n"
     ]
    }
   ],
   "execution_count": 7
  },
  {
   "metadata": {
    "ExecuteTime": {
     "end_time": "2025-05-15T14:56:45.071926Z",
     "start_time": "2025-05-15T14:56:44.857473Z"
    }
   },
   "cell_type": "code",
   "source": [
    "l = [p_class[1][0], p_class[1][1], p_class[2][0], p_class[2][1], p_class[3][0], p_class[3][1]]\n",
    "m = [exp[1][0], exp[1][1], exp[2][0], exp[2][1], exp[3][0], exp[3][1]]\n",
    "chisquare(l, f_exp=m)"
   ],
   "id": "f6f2fb19bcaa4845",
   "outputs": [
    {
     "data": {
      "text/plain": [
       "Power_divergenceResult(statistic=np.float64(102.88898875696057), pvalue=np.float64(1.299907547936226e-20))"
      ]
     },
     "execution_count": 8,
     "metadata": {},
     "output_type": "execute_result"
    }
   ],
   "execution_count": 8
  }
 ],
 "metadata": {
  "kernelspec": {
   "display_name": "Python 3",
   "language": "python",
   "name": "python3"
  },
  "language_info": {
   "codemirror_mode": {
    "name": "ipython",
    "version": 2
   },
   "file_extension": ".py",
   "mimetype": "text/x-python",
   "name": "python",
   "nbconvert_exporter": "python",
   "pygments_lexer": "ipython2",
   "version": "2.7.6"
  }
 },
 "nbformat": 4,
 "nbformat_minor": 5
}
