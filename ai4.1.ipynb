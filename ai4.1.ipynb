{
 "cells": [
  {
   "metadata": {},
   "cell_type": "code",
   "source": [
    "import pandas as pd\n",
    "import plotly.express as px\n",
    "from plotly.offline import init_notebook_mode\n",
    "init_notebook_mode()"
   ],
   "id": "46e895bdc8eaf807",
   "outputs": [],
   "execution_count": null
  },
  {
   "metadata": {},
   "cell_type": "code",
   "source": [
    "heart=pd.read_csv('heart.csv')\n",
    "covid=pd.read_csv('covid_19_data.csv')\n",
    "co2=pd.read_csv('co2_emission.csv')\n",
    "house=pd.read_csv('train.csv')"
   ],
   "id": "6f641491bf0569eb",
   "outputs": [],
   "execution_count": null
  },
  {
   "metadata": {},
   "cell_type": "code",
   "source": [
    "fig = px.pie(heart, names='slope', title='Pie chart')\n",
    "fig.update_traces(textinfo='value',\n",
    " insidetextorientation='tangential', pull=[0.7,0.7,0.7])\n",
    "fig.show()"
   ],
   "id": "82d1d23bf6091ec5",
   "outputs": [],
   "execution_count": null
  },
  {
   "metadata": {},
   "cell_type": "code",
   "source": [
    "fig=px.histogram(house,x='SalePrice',title='House prices', log_x=True)\n",
    "fig.show()"
   ],
   "id": "4ddfc4a6f986bafb",
   "outputs": [],
   "execution_count": null
  },
  {
   "metadata": {},
   "cell_type": "code",
   "source": "fig=px.histogram(house, x='SalePrice',title='Colored sale', nbins=200, color='YrSold')",
   "id": "8480d8a3584c4894",
   "outputs": [],
   "execution_count": null
  },
  {
   "metadata": {},
   "cell_type": "code",
   "source": "fig.show()",
   "id": "f3e388b3b7df0a70",
   "outputs": [],
   "execution_count": null
  },
  {
   "metadata": {},
   "cell_type": "code",
   "source": [
    "fig=px.box(heart, x='slope', y='chol', title='Распрееление холестерина', color='target')\n",
    "fig.show()"
   ],
   "id": "aed3931fc9c41c5",
   "outputs": [],
   "execution_count": null
  },
  {
   "metadata": {},
   "cell_type": "code",
   "source": [
    "fig = px.box(heart, x='chol', y='slope', title='Распределение холестерина', color='target', orientation='h')\n",
    "fig.show()"
   ],
   "id": "7adc67309e7979a2",
   "outputs": [],
   "execution_count": null
  },
  {
   "metadata": {},
   "cell_type": "code",
   "source": [
    "fig=px.box(heart, x='slope', y='chol', title='Распрееление холестерина', color='target', points='all')\n",
    "fig.show()"
   ],
   "id": "88229e8f9ab3bb1c",
   "outputs": [],
   "execution_count": null
  },
  {
   "metadata": {},
   "cell_type": "code",
   "source": [
    "fig=px.violin(heart, x='slope', y='chol', title='Violine char',\n",
    " color='target')\n",
    "fig.show()"
   ],
   "id": "b857f2dc98492eb6",
   "outputs": [],
   "execution_count": null
  },
  {
   "metadata": {},
   "cell_type": "code",
   "source": [
    "fig=px.violin(heart, x='slope', y='chol', title='Violine char',\n",
    " color='target', points='all')\n",
    "fig.show()"
   ],
   "id": "c01b1434f1419550",
   "outputs": [],
   "execution_count": null
  }
 ],
 "metadata": {
  "kernelspec": {
   "display_name": "Python 3",
   "language": "python",
   "name": "python3"
  },
  "language_info": {
   "codemirror_mode": {
    "name": "ipython",
    "version": 2
   },
   "file_extension": ".py",
   "mimetype": "text/x-python",
   "name": "python",
   "nbconvert_exporter": "python",
   "pygments_lexer": "ipython2",
   "version": "2.7.6"
  }
 },
 "nbformat": 4,
 "nbformat_minor": 5
}
